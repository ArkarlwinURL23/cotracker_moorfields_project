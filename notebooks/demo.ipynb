{
 "cells": [
  {
   "cell_type": "code",
   "execution_count": 1,
   "id": "fadd5ed9-71c6-4547-a360-61aeec7e038b",
   "metadata": {},
   "outputs": [],
   "source": [
    "# Copyright (c) Meta Platforms, Inc. and affiliates."
   ]
  },
  {
   "cell_type": "code",
   "execution_count": 2,
   "id": "10148fb2-b3ef-4436-aa37-677dbdd83b21",
   "metadata": {},
   "outputs": [
    {
     "data": {
      "text/html": [
       "\n",
       "<a target=\"_blank\" href=\"https://colab.research.google.com/github/facebookresearch/co-tracker/blob/main/notebooks/demo.ipynb\">\n",
       "  <img src=\"https://colab.research.google.com/assets/colab-badge.svg\" alt=\"Open In Colab\"/>\n",
       "</a>\n"
      ],
      "text/plain": [
       "<IPython.core.display.HTML object>"
      ]
     },
     "metadata": {},
     "output_type": "display_data"
    }
   ],
   "source": [
    "from IPython.display import display, HTML\n",
    "display(HTML(\n",
    "\"\"\"\n",
    "<a target=\"_blank\" href=\"https://colab.research.google.com/github/facebookresearch/co-tracker/blob/main/notebooks/demo.ipynb\">\n",
    "  <img src=\"https://colab.research.google.com/assets/colab-badge.svg\" alt=\"Open In Colab\"/>\n",
    "</a>\n",
    "\"\"\"\n",
    "))"
   ]
  },
  {
   "cell_type": "code",
   "execution_count": 3,
   "id": "5a2e003d-7d22-41ba-a8bf-e7419907eea5",
   "metadata": {},
   "outputs": [],
   "source": [
    "using_colab = False"
   ]
  },
  {
   "cell_type": "code",
   "execution_count": 4,
   "id": "420ec146-28cb-4fc5-8317-acc5451fd921",
   "metadata": {},
   "outputs": [],
   "source": [
    "if using_colab:\n",
    "    import torch\n",
    "    import torchvision\n",
    "    print(\"PyTorch version:\", torch.__version__)\n",
    "    print(\"Torchvision version:\", torchvision.__version__)\n",
    "    print(\"CUDA is available:\", torch.cuda.is_available())\n",
    "    import sys\n",
    "    !{sys.executable} -m pip install opencv-python matplotlib\n",
    "    !{sys.executable} -m pip install 'git+https://github.com/facebookresearch/co-tracker.git'\n",
    "    \n",
    "    !mkdir images"
   ]
  },
  {
   "cell_type": "code",
   "execution_count": 5,
   "id": "1745a859-71d4-4ec3-8ef3-027cabe786d4",
   "metadata": {},
   "outputs": [],
   "source": [
    "import os\n",
    "import numpy as np\n",
    "import torch\n",
    "import matplotlib.pyplot as plt\n",
    "import cv2\n",
    "from PIL import Image\n",
    "from torchvision.io import read_video\n",
    "from cotracker.utils.visualizer import Visualizer\n",
    "from IPython.display import HTML"
   ]
  },
  {
   "cell_type": "code",
   "execution_count": 6,
   "id": "f1f9ca4d-951e-49d2-8844-91f7bcadfecd",
   "metadata": {},
   "outputs": [],
   "source": [
    "video = read_video('../assets/apple.mp4')[0]\n",
    "video = video.permute(0, 3, 1, 2)[None].float()"
   ]
  },
  {
   "cell_type": "code",
   "execution_count": 7,
   "id": "d59ac40b-bde8-46d4-bd57-4ead939f22ca",
   "metadata": {},
   "outputs": [],
   "source": [
    "from cotracker.predictor import CoTrackerPredictor\n",
    "\n",
    "model = CoTrackerPredictor(\n",
    "    checkpoint=os.path.join(\n",
    "        '../checkpoints/cotracker_stride_4_wind_8.pth'\n",
    "    )\n",
    ")"
   ]
  },
  {
   "cell_type": "markdown",
   "id": "73d88a5f-057c-4b9f-828d-ee0b97d1e72f",
   "metadata": {},
   "source": [
    "# Tracking manually selected points"
   ]
  },
  {
   "cell_type": "code",
   "execution_count": 13,
   "id": "c6422e7c-8c6f-4269-92c3-245344afe35b",
   "metadata": {},
   "outputs": [],
   "source": [
    "queries = torch.tensor([\n",
    "    [0., 400., 350.],\n",
    "    [10., 600., 500.],\n",
    "    [20., 750., 600.],\n",
    "    [30., 900., 200.]\n",
    "]).cuda()\n",
    "#  visualize points"
   ]
  },
  {
   "cell_type": "code",
   "execution_count": 9,
   "id": "09008ca9-6a87-494f-8b05-6370cae6a600",
   "metadata": {},
   "outputs": [
    {
     "name": "stdout",
     "output_type": "stream",
     "text": [
      "Moviepy - Building video ./videos/queries_pred_track.mp4.\n",
      "Moviepy - Writing video ./videos/queries_pred_track.mp4\n",
      "\n"
     ]
    },
    {
     "name": "stderr",
     "output_type": "stream",
     "text": [
      "                                                                                                                                                                                                                                                                                                                                                               \r"
     ]
    },
    {
     "name": "stdout",
     "output_type": "stream",
     "text": [
      "Moviepy - Done !\n",
      "Moviepy - video ready ./videos/queries_pred_track.mp4\n",
      "Video saved to ./videos/queries_pred_track.mp4\n"
     ]
    }
   ],
   "source": [
    "pred_tracks, __ = model(video, queries=queries[None])\n",
    "vis = Visualizer(\n",
    "    save_dir='./videos',\n",
    "    linewidth=6,\n",
    "    mode='cool',\n",
    "    tracks_leave_trace=-1\n",
    ")\n",
    "vis.visualize(\n",
    "    video=video,\n",
    "    tracks=pred_tracks, \n",
    "    filename='queries');"
   ]
  },
  {
   "cell_type": "code",
   "execution_count": 10,
   "id": "ed0765f9-03e5-47f5-88f0-7f9d04dec48d",
   "metadata": {},
   "outputs": [
    {
     "data": {
      "text/html": [
       "\n",
       "    <video width=\"640\" height=\"480\" autoplay loop controls>\n",
       "        <source src=\"./videos/queries_pred_track.mp4\" type=\"video/mp4\">\n",
       "    </video>\n"
      ],
      "text/plain": [
       "<IPython.core.display.HTML object>"
      ]
     },
     "execution_count": 10,
     "metadata": {},
     "output_type": "execute_result"
    }
   ],
   "source": [
    "HTML(\"\"\"\n",
    "    <video width=\"640\" height=\"480\" autoplay loop controls>\n",
    "        <source src=\"./videos/queries_pred_track.mp4\" type=\"video/mp4\">\n",
    "    </video>\n",
    "\"\"\")"
   ]
  },
  {
   "cell_type": "markdown",
   "id": "87f2a3b4-a8b3-4aeb-87d2-28f056c624ba",
   "metadata": {},
   "source": [
    "# Points on a regular grid"
   ]
  },
  {
   "cell_type": "markdown",
   "id": "a9aac679-19f8-4b78-9cc9-d934c6f83b01",
   "metadata": {},
   "source": [
    "### Tracking forward from the first frame"
   ]
  },
  {
   "cell_type": "code",
   "execution_count": 11,
   "id": "c880f3ca-cf42-4f64-9df6-a0e8de6561dc",
   "metadata": {},
   "outputs": [],
   "source": [
    "grid_size = 40"
   ]
  },
  {
   "cell_type": "code",
   "execution_count": 12,
   "id": "83d8847c-5a48-4fa0-9d52-cc02cfc7ea09",
   "metadata": {},
   "outputs": [
    {
     "name": "stdout",
     "output_type": "stream",
     "text": [
      "Moviepy - Building video ./videos/grid_pred_track.mp4.\n",
      "Moviepy - Writing video ./videos/grid_pred_track.mp4\n",
      "\n"
     ]
    },
    {
     "name": "stderr",
     "output_type": "stream",
     "text": [
      "                                                                                                                                                                                                                                                                                                                                                               \r"
     ]
    },
    {
     "name": "stdout",
     "output_type": "stream",
     "text": [
      "Moviepy - Done !\n",
      "Moviepy - video ready ./videos/grid_pred_track.mp4\n",
      "Video saved to ./videos/grid_pred_track.mp4\n"
     ]
    }
   ],
   "source": [
    "pred_tracks, __ = model(video, grid_size=grid_size)\n",
    "vis = Visualizer(\n",
    "    save_dir='./videos',\n",
    "    pad_value=100,\n",
    "    linewidth=3,\n",
    ")\n",
    "vis.visualize(\n",
    "    video=video,\n",
    "    tracks=pred_tracks, \n",
    "    filename='grid');"
   ]
  },
  {
   "cell_type": "code",
   "execution_count": 14,
   "id": "c47e1829-01e3-4908-b4fa-32c42284c98e",
   "metadata": {},
   "outputs": [
    {
     "data": {
      "text/html": [
       "\n",
       "    <video width=\"640\" height=\"480\" autoplay loop controls>\n",
       "        <source src=\"./videos/grid_pred_track.mp4\" type=\"video/mp4\">\n",
       "    </video>\n"
      ],
      "text/plain": [
       "<IPython.core.display.HTML object>"
      ]
     },
     "execution_count": 14,
     "metadata": {},
     "output_type": "execute_result"
    }
   ],
   "source": [
    "HTML(\"\"\"\n",
    "    <video width=\"640\" height=\"480\" autoplay loop controls>\n",
    "        <source src=\"./videos/grid_pred_track.mp4\" type=\"video/mp4\">\n",
    "    </video>\n",
    "\"\"\")"
   ]
  },
  {
   "cell_type": "markdown",
   "id": "7fefe472-329f-40cd-a582-b8ece47b9f5e",
   "metadata": {},
   "source": [
    "### Tracking forward from the frame number 30"
   ]
  },
  {
   "cell_type": "code",
   "execution_count": 15,
   "id": "8f6d16b4-c0ba-4721-aa7e-061eb4877d97",
   "metadata": {},
   "outputs": [],
   "source": [
    "grid_size = 40\n",
    "grid_query_frame = 30"
   ]
  },
  {
   "cell_type": "code",
   "execution_count": 17,
   "id": "3cd58820-7b23-469e-9b6d-5fa81257981f",
   "metadata": {},
   "outputs": [],
   "source": [
    "pred_tracks, __ = model(video, grid_size=grid_size, grid_query_frame=grid_query_frame)"
   ]
  },
  {
   "cell_type": "code",
   "execution_count": 18,
   "id": "25a85a1d-dce0-4e6b-9f7a-aaf31ade0600",
   "metadata": {},
   "outputs": [
    {
     "name": "stdout",
     "output_type": "stream",
     "text": [
      "Moviepy - Building video ./videos/grid_query_30_pred_track.mp4.\n",
      "Moviepy - Writing video ./videos/grid_query_30_pred_track.mp4\n",
      "\n"
     ]
    },
    {
     "name": "stderr",
     "output_type": "stream",
     "text": [
      "                                                                                                                                                                                                                                                                                                                                                               \r"
     ]
    },
    {
     "name": "stdout",
     "output_type": "stream",
     "text": [
      "Moviepy - Done !\n",
      "Moviepy - video ready ./videos/grid_query_30_pred_track.mp4\n",
      "Video saved to ./videos/grid_query_30_pred_track.mp4\n"
     ]
    }
   ],
   "source": [
    "vis.visualize(\n",
    "    video=video,\n",
    "    tracks=pred_tracks, \n",
    "    filename='grid_query_30',\n",
    "    query_frame=grid_query_frame);"
   ]
  },
  {
   "cell_type": "code",
   "execution_count": 19,
   "id": "f0b01d51-9222-472b-a714-188c38d83ad9",
   "metadata": {},
   "outputs": [
    {
     "data": {
      "text/html": [
       "\n",
       "    <video width=\"640\" height=\"480\" autoplay loop controls>\n",
       "        <source src=\"./videos/grid_query_30_pred_track.mp4\" type=\"video/mp4\">\n",
       "    </video>\n"
      ],
      "text/plain": [
       "<IPython.core.display.HTML object>"
      ]
     },
     "execution_count": 19,
     "metadata": {},
     "output_type": "execute_result"
    }
   ],
   "source": [
    "HTML(\"\"\"\n",
    "    <video width=\"640\" height=\"480\" autoplay loop controls>\n",
    "        <source src=\"./videos/grid_query_30_pred_track.mp4\" type=\"video/mp4\">\n",
    "    </video>\n",
    "\"\"\")"
   ]
  },
  {
   "cell_type": "markdown",
   "id": "10baad8f-0cb8-4118-9e69-3fb24575715c",
   "metadata": {},
   "source": [
    "### Tracking forward **and backward** from the frame number 30"
   ]
  },
  {
   "cell_type": "code",
   "execution_count": 20,
   "id": "506233dc-1fb3-4a3c-b9eb-5cbd5df49128",
   "metadata": {},
   "outputs": [],
   "source": [
    "grid_size = 40\n",
    "grid_query_frame = 30"
   ]
  },
  {
   "cell_type": "code",
   "execution_count": 21,
   "id": "6a69675f-462f-476e-8d1b-a56a26835b6d",
   "metadata": {},
   "outputs": [
    {
     "ename": "NameError",
     "evalue": "name 'load_video' is not defined",
     "output_type": "error",
     "traceback": [
      "\u001b[0;31m---------------------------------------------------------------------------\u001b[0m",
      "\u001b[0;31mNameError\u001b[0m                                 Traceback (most recent call last)",
      "Cell \u001b[0;32mIn[21], line 1\u001b[0m\n\u001b[0;32m----> 1\u001b[0m pred_tracks, __ \u001b[38;5;241m=\u001b[39m model(\u001b[43mload_video\u001b[49m, grid_size\u001b[38;5;241m=\u001b[39mgrid_size, grid_query_frame\u001b[38;5;241m=\u001b[39mgrid_query_frame, backward_tracking\u001b[38;5;241m=\u001b[39m\u001b[38;5;28;01mTrue\u001b[39;00m)\n",
      "\u001b[0;31mNameError\u001b[0m: name 'load_video' is not defined"
     ]
    }
   ],
   "source": [
    "pred_tracks, __ = model(video, grid_size=grid_size, grid_query_frame=grid_query_frame, backward_tracking=True)"
   ]
  },
  {
   "cell_type": "code",
   "execution_count": 22,
   "id": "677cf34e-6c6a-49e3-a21b-f8a4f718f916",
   "metadata": {},
   "outputs": [
    {
     "name": "stdout",
     "output_type": "stream",
     "text": [
      "Moviepy - Building video ./videos/grid_query_30_backward_pred_track.mp4.\n",
      "Moviepy - Writing video ./videos/grid_query_30_backward_pred_track.mp4\n",
      "\n"
     ]
    },
    {
     "name": "stderr",
     "output_type": "stream",
     "text": [
      "                                                                                                                                                                                                                                                                                                                                                               \r"
     ]
    },
    {
     "name": "stdout",
     "output_type": "stream",
     "text": [
      "Moviepy - Done !\n",
      "Moviepy - video ready ./videos/grid_query_30_backward_pred_track.mp4\n",
      "Video saved to ./videos/grid_query_30_backward_pred_track.mp4\n"
     ]
    }
   ],
   "source": [
    "vis.visualize(\n",
    "    video=video,\n",
    "    tracks=pred_tracks, \n",
    "    filename='grid_query_30_backward',\n",
    "    query_frame=grid_query_frame);"
   ]
  },
  {
   "cell_type": "code",
   "execution_count": 23,
   "id": "c8d64ab0-7e92-4238-8e7d-178652fc409c",
   "metadata": {},
   "outputs": [
    {
     "data": {
      "text/html": [
       "\n",
       "    <video width=\"640\" height=\"480\" autoplay loop controls>\n",
       "        <source src=\"./videos/grid_query_30_backward_pred_track.mp4\" type=\"video/mp4\">\n",
       "    </video>\n"
      ],
      "text/plain": [
       "<IPython.core.display.HTML object>"
      ]
     },
     "execution_count": 23,
     "metadata": {},
     "output_type": "execute_result"
    }
   ],
   "source": [
    "HTML(\"\"\"\n",
    "    <video width=\"640\" height=\"480\" autoplay loop controls>\n",
    "        <source src=\"./videos/grid_query_30_backward_pred_track.mp4\" type=\"video/mp4\">\n",
    "    </video>\n",
    "\"\"\")"
   ]
  },
  {
   "cell_type": "markdown",
   "id": "fb55fb01-6d8e-4e06-9346-8b2e9ef489c2",
   "metadata": {},
   "source": [
    "# Regular grid + Segmentation mask"
   ]
  },
  {
   "cell_type": "code",
   "execution_count": 24,
   "id": "b759548d-1eda-473e-9c90-99e5d3197e20",
   "metadata": {},
   "outputs": [],
   "source": [
    "grid_size = 120"
   ]
  },
  {
   "cell_type": "code",
   "execution_count": 25,
   "id": "14ae8a8b-fec7-40d1-b6f2-10e333b75db4",
   "metadata": {},
   "outputs": [],
   "source": [
    "input_mask = '../assets/apple_mask.png'\n",
    "segm_mask = np.array(Image.open(input_mask))\n",
    "segm_mask = torch.from_numpy(segm_mask)[None, None]"
   ]
  },
  {
   "cell_type": "code",
   "execution_count": 26,
   "id": "b42dce24-7952-4660-8298-4c362d6913cf",
   "metadata": {},
   "outputs": [
    {
     "name": "stdout",
     "output_type": "stream",
     "text": [
      "Moviepy - Building video ./videos/segm_grid_pred_track.mp4.\n",
      "Moviepy - Writing video ./videos/segm_grid_pred_track.mp4\n",
      "\n"
     ]
    },
    {
     "name": "stderr",
     "output_type": "stream",
     "text": [
      "                                                                                                                                                                                                                                                                                                                                                               \r"
     ]
    },
    {
     "name": "stdout",
     "output_type": "stream",
     "text": [
      "Moviepy - Done !\n",
      "Moviepy - video ready ./videos/segm_grid_pred_track.mp4\n",
      "Video saved to ./videos/segm_grid_pred_track.mp4\n"
     ]
    }
   ],
   "source": [
    "pred_tracks, __ = model(video, grid_size=grid_size, segm_mask=segm_mask)\n",
    "vis = Visualizer(\n",
    "    save_dir='./videos',\n",
    "    pad_value=100,\n",
    "    linewidth=2,\n",
    ")\n",
    "vis.visualize(\n",
    "    video=video,\n",
    "    tracks=pred_tracks, \n",
    "    filename='segm_grid');"
   ]
  },
  {
   "cell_type": "code",
   "execution_count": 27,
   "id": "1810440f-00f4-488a-a174-36be05949e42",
   "metadata": {},
   "outputs": [
    {
     "data": {
      "text/html": [
       "\n",
       "    <video width=\"640\" height=\"480\" autoplay loop controls>\n",
       "        <source src=\"./videos/segm_grid_pred_track.mp4\" type=\"video/mp4\">\n",
       "    </video>\n"
      ],
      "text/plain": [
       "<IPython.core.display.HTML object>"
      ]
     },
     "execution_count": 27,
     "metadata": {},
     "output_type": "execute_result"
    }
   ],
   "source": [
    "HTML(\"\"\"\n",
    "    <video width=\"640\" height=\"480\" autoplay loop controls>\n",
    "        <source src=\"./videos/segm_grid_pred_track.mp4\" type=\"video/mp4\">\n",
    "    </video>\n",
    "\"\"\")"
   ]
  },
  {
   "cell_type": "markdown",
   "id": "a63e89e4-8890-4e1b-91ec-d5dfa3f93309",
   "metadata": {},
   "source": [
    "# Dense Tracks"
   ]
  },
  {
   "cell_type": "markdown",
   "id": "4ae764d8-db7c-41c2-a712-1876e7b4372d",
   "metadata": {},
   "source": [
    "### Tracking forward **and backward** from the frame number 25"
   ]
  },
  {
   "cell_type": "code",
   "execution_count": 35,
   "id": "379557d9-80ea-4316-91df-4da215193b41",
   "metadata": {},
   "outputs": [
    {
     "data": {
      "text/plain": [
       "torch.Size([1, 48, 3, 719, 1282])"
      ]
     },
     "execution_count": 35,
     "metadata": {},
     "output_type": "execute_result"
    }
   ],
   "source": [
    "video.shape"
   ]
  },
  {
   "cell_type": "code",
   "execution_count": 28,
   "id": "c6db5cc7-351d-4d9e-9b9d-3a40f05b077a",
   "metadata": {},
   "outputs": [],
   "source": [
    "import torch.nn.functional as F\n",
    "video_interp = F.interpolate(video[0], [100,180], mode=\"bilinear\")[None].cuda()"
   ]
  },
  {
   "cell_type": "code",
   "execution_count": 29,
   "id": "0918f246-5556-43b8-9f6d-88013d5a487e",
   "metadata": {},
   "outputs": [
    {
     "data": {
      "text/plain": [
       "torch.Size([1, 48, 3, 100, 180])"
      ]
     },
     "execution_count": 29,
     "metadata": {},
     "output_type": "execute_result"
    }
   ],
   "source": [
    "video_interp.shape"
   ]
  },
  {
   "cell_type": "code",
   "execution_count": 30,
   "id": "23d972a9-f514-4698-8a69-2eb4a6798ac3",
   "metadata": {},
   "outputs": [
    {
     "name": "stderr",
     "output_type": "stream",
     "text": [
      "100%|████████████████████████████████████████████████████████████████████████████████████████████████████████████████████████████████████████████████████████████████████████████████████████████████████████████████████████████████████████████████████████████████████████████████████████████████████████████████████████████| 9/9 [02:08<00:00, 14.24s/it]\n"
     ]
    }
   ],
   "source": [
    "pred_tracks, __ = model(video_interp, grid_query_frame=25, backward_tracking=True)\n"
   ]
  },
  {
   "cell_type": "code",
   "execution_count": 33,
   "id": "5394b0ba-1fc7-4843-91d5-6113a6e86bdf",
   "metadata": {},
   "outputs": [
    {
     "name": "stdout",
     "output_type": "stream",
     "text": [
      "Moviepy - Building video ./videos/dense_pred_track.mp4.\n",
      "Moviepy - Writing video ./videos/dense_pred_track.mp4\n",
      "\n"
     ]
    },
    {
     "name": "stderr",
     "output_type": "stream",
     "text": [
      "                                                                                                                                                                                                                                                                                                                                                               "
     ]
    },
    {
     "name": "stdout",
     "output_type": "stream",
     "text": [
      "Moviepy - Done !\n",
      "Moviepy - video ready ./videos/dense_pred_track.mp4\n",
      "Video saved to ./videos/dense_pred_track.mp4\n"
     ]
    },
    {
     "name": "stderr",
     "output_type": "stream",
     "text": [
      "\r"
     ]
    },
    {
     "data": {
      "text/html": [
       "\n",
       "    <video width=\"320\" height=\"240\" autoplay loop controls>\n",
       "        <source src=\"./videos/dense_pred_track.mp4\" type=\"video/mp4\">\n",
       "    </video>\n"
      ],
      "text/plain": [
       "<IPython.core.display.HTML object>"
      ]
     },
     "execution_count": 33,
     "metadata": {},
     "output_type": "execute_result"
    }
   ],
   "source": [
    "vis = Visualizer(\n",
    "    save_dir='./videos',\n",
    "    pad_value=20,\n",
    "    linewidth=1,\n",
    "    mode='optical_flow'\n",
    ")\n",
    "vis.visualize(\n",
    "    video=video_interp,\n",
    "    tracks=pred_tracks, \n",
    "    query_frame=grid_query_frame,\n",
    "    filename='dense');\n",
    "from IPython.display import HTML\n",
    "\n",
    "HTML(\"\"\"\n",
    "    <video width=\"320\" height=\"240\" autoplay loop controls>\n",
    "        <source src=\"./videos/dense_pred_track.mp4\" type=\"video/mp4\">\n",
    "    </video>\n",
    "\"\"\")"
   ]
  },
  {
   "cell_type": "code",
   "execution_count": null,
   "id": "8e0b0923-0846-48a5-927d-ab3d3f114093",
   "metadata": {},
   "outputs": [],
   "source": []
  }
 ],
 "metadata": {
  "kernelspec": {
   "display_name": "stereoformer",
   "language": "python",
   "name": "stereoformer"
  },
  "language_info": {
   "codemirror_mode": {
    "name": "ipython",
    "version": 3
   },
   "file_extension": ".py",
   "mimetype": "text/x-python",
   "name": "python",
   "nbconvert_exporter": "python",
   "pygments_lexer": "ipython3",
   "version": "3.8.13"
  }
 },
 "nbformat": 4,
 "nbformat_minor": 5
}
